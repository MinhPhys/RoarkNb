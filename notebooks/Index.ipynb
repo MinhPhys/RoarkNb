{
 "cells": [
  {
   "cell_type": "markdown",
   "metadata": {},
   "source": [
    "## `Roark's Formulas - Bending calculations chapter`\n",
    "\n",
    "* TABLE 8.1 Shear, Moment, Slope, and Deflection Formulas for Elastic Straight Beams\n",
    "    * [Univariate Gaussian Distribution](data-distributions/gaussian-1d.ipynb)\n",
    "    * Concentrated intermediate load\n",
    "      * [1a. Left end free, right end fixed (cantilever)](tab8p1/roark_test_tab8p1_case1a.ipynb)\n",
    "      * [Points in a unit disc](data-distributions/monte-carlo/points-in-disc.ipynb)\n",
    "    \n",
    "* TABLE 8.2 Reaction and Deflection Formulas for In-Plane Loading of Elastic Frames\n",
    "    * Left end pinned, right end pinned\n",
    "      * [1a. Concentrated load on the horizontal member](tab8p1/roark_test_tab8p1_case1a.ipynb)\n",
    "      * [Points in a unit disc](data-distributions/monte-carlo/points-in-disc.ipynb)\n",
    "\n",
    "* TABLE 8.8 Shear, Moment, Slope, and Deflection Formulas for Beams Under Simultaneous Axial Compression and Transverse Loading\n",
    "    * Axial compressive load plus concentrated intermediate lateral load\n",
    "      * [1a. Left end free, right end fixed (cantilever)](tab8p1/roark_test_tab8p1_case1a.ipynb)\n",
    "    * [Neural Net Builder](deep-learning/neural-net-builder/neural-net-builder.ipynb)"
   ]
  }
 ],
 "metadata": {
  "kernelspec": {
   "display_name": "Python 3",
   "language": "python",
   "name": "python3"
  },
  "language_info": {
   "codemirror_mode": {
    "name": "ipython",
    "version": 3
   },
   "file_extension": ".py",
   "mimetype": "text/x-python",
   "name": "python",
   "nbconvert_exporter": "python",
   "pygments_lexer": "ipython3",
   "version": "3.7.8"
  }
 },
 "nbformat": 4,
 "nbformat_minor": 4
}
